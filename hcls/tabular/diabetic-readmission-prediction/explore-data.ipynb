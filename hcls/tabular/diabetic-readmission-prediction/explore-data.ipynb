{
 "cells": [
  {
   "cell_type": "markdown",
   "metadata": {},
   "source": [
    "##### Imports"
   ]
  },
  {
   "cell_type": "code",
   "execution_count": 1,
   "metadata": {},
   "outputs": [],
   "source": [
    "import pandas as pd\n",
    "import sagemaker"
   ]
  },
  {
   "cell_type": "markdown",
   "metadata": {},
   "source": [
    "#### Load data set"
   ]
  },
  {
   "cell_type": "code",
   "execution_count": 2,
   "metadata": {},
   "outputs": [
    {
     "data": {
      "text/html": [
       "<div>\n",
       "<style scoped>\n",
       "    .dataframe tbody tr th:only-of-type {\n",
       "        vertical-align: middle;\n",
       "    }\n",
       "\n",
       "    .dataframe tbody tr th {\n",
       "        vertical-align: top;\n",
       "    }\n",
       "\n",
       "    .dataframe thead th {\n",
       "        text-align: right;\n",
       "    }\n",
       "</style>\n",
       "<table border=\"1\" class=\"dataframe\">\n",
       "  <thead>\n",
       "    <tr style=\"text-align: right;\">\n",
       "      <th></th>\n",
       "      <th>readmitted</th>\n",
       "      <th>race</th>\n",
       "      <th>gender</th>\n",
       "      <th>age</th>\n",
       "      <th>time_in_hospital</th>\n",
       "      <th>num_lab_procedures</th>\n",
       "      <th>num_procedures</th>\n",
       "      <th>num_medications</th>\n",
       "      <th>number_outpatient</th>\n",
       "      <th>number_emergency</th>\n",
       "      <th>number_inpatient</th>\n",
       "      <th>number_diagnoses</th>\n",
       "      <th>max_glu_serum</th>\n",
       "      <th>a1c_result</th>\n",
       "      <th>change</th>\n",
       "      <th>diabetes_med</th>\n",
       "    </tr>\n",
       "  </thead>\n",
       "  <tbody>\n",
       "    <tr>\n",
       "      <th>0</th>\n",
       "      <td>no</td>\n",
       "      <td>caucasian</td>\n",
       "      <td>female</td>\n",
       "      <td>5</td>\n",
       "      <td>1</td>\n",
       "      <td>41</td>\n",
       "      <td>0</td>\n",
       "      <td>1</td>\n",
       "      <td>0</td>\n",
       "      <td>0</td>\n",
       "      <td>0</td>\n",
       "      <td>1</td>\n",
       "      <td>none</td>\n",
       "      <td>none</td>\n",
       "      <td>0</td>\n",
       "      <td>0</td>\n",
       "    </tr>\n",
       "    <tr>\n",
       "      <th>1</th>\n",
       "      <td>&gt;30</td>\n",
       "      <td>caucasian</td>\n",
       "      <td>female</td>\n",
       "      <td>15</td>\n",
       "      <td>3</td>\n",
       "      <td>59</td>\n",
       "      <td>0</td>\n",
       "      <td>18</td>\n",
       "      <td>0</td>\n",
       "      <td>0</td>\n",
       "      <td>0</td>\n",
       "      <td>9</td>\n",
       "      <td>none</td>\n",
       "      <td>none</td>\n",
       "      <td>1</td>\n",
       "      <td>1</td>\n",
       "    </tr>\n",
       "    <tr>\n",
       "      <th>2</th>\n",
       "      <td>no</td>\n",
       "      <td>african_american</td>\n",
       "      <td>female</td>\n",
       "      <td>25</td>\n",
       "      <td>2</td>\n",
       "      <td>11</td>\n",
       "      <td>5</td>\n",
       "      <td>13</td>\n",
       "      <td>2</td>\n",
       "      <td>0</td>\n",
       "      <td>1</td>\n",
       "      <td>6</td>\n",
       "      <td>none</td>\n",
       "      <td>none</td>\n",
       "      <td>0</td>\n",
       "      <td>1</td>\n",
       "    </tr>\n",
       "    <tr>\n",
       "      <th>3</th>\n",
       "      <td>no</td>\n",
       "      <td>caucasian</td>\n",
       "      <td>male</td>\n",
       "      <td>35</td>\n",
       "      <td>2</td>\n",
       "      <td>44</td>\n",
       "      <td>1</td>\n",
       "      <td>16</td>\n",
       "      <td>0</td>\n",
       "      <td>0</td>\n",
       "      <td>0</td>\n",
       "      <td>7</td>\n",
       "      <td>none</td>\n",
       "      <td>none</td>\n",
       "      <td>1</td>\n",
       "      <td>1</td>\n",
       "    </tr>\n",
       "    <tr>\n",
       "      <th>4</th>\n",
       "      <td>no</td>\n",
       "      <td>caucasian</td>\n",
       "      <td>male</td>\n",
       "      <td>45</td>\n",
       "      <td>1</td>\n",
       "      <td>51</td>\n",
       "      <td>0</td>\n",
       "      <td>8</td>\n",
       "      <td>0</td>\n",
       "      <td>0</td>\n",
       "      <td>0</td>\n",
       "      <td>5</td>\n",
       "      <td>none</td>\n",
       "      <td>none</td>\n",
       "      <td>1</td>\n",
       "      <td>1</td>\n",
       "    </tr>\n",
       "  </tbody>\n",
       "</table>\n",
       "</div>"
      ],
      "text/plain": [
       "  readmitted              race  gender  age  time_in_hospital  \\\n",
       "0         no         caucasian  female    5                 1   \n",
       "1        >30         caucasian  female   15                 3   \n",
       "2         no  african_american  female   25                 2   \n",
       "3         no         caucasian    male   35                 2   \n",
       "4         no         caucasian    male   45                 1   \n",
       "\n",
       "   num_lab_procedures  num_procedures  num_medications  number_outpatient  \\\n",
       "0                  41               0                1                  0   \n",
       "1                  59               0               18                  0   \n",
       "2                  11               5               13                  2   \n",
       "3                  44               1               16                  0   \n",
       "4                  51               0                8                  0   \n",
       "\n",
       "   number_emergency  number_inpatient  number_diagnoses max_glu_serum  \\\n",
       "0                 0                 0                 1          none   \n",
       "1                 0                 0                 9          none   \n",
       "2                 0                 1                 6          none   \n",
       "3                 0                 0                 7          none   \n",
       "4                 0                 0                 5          none   \n",
       "\n",
       "  a1c_result  change  diabetes_med  \n",
       "0       none       0             0  \n",
       "1       none       1             1  \n",
       "2       none       0             1  \n",
       "3       none       1             1  \n",
       "4       none       1             1  "
      ]
     },
     "execution_count": 2,
     "metadata": {},
     "output_type": "execute_result"
    }
   ],
   "source": [
    "df = pd.read_csv('./data/diabetic_readmission.csv')\n",
    "df.head()"
   ]
  },
  {
   "cell_type": "code",
   "execution_count": 3,
   "metadata": {},
   "outputs": [
    {
     "data": {
      "text/plain": [
       "(69570, 16)"
      ]
     },
     "execution_count": 3,
     "metadata": {},
     "output_type": "execute_result"
    }
   ],
   "source": [
    "df.shape"
   ]
  },
  {
   "cell_type": "markdown",
   "metadata": {},
   "source": [
    "| **Column name**       | **Description**     | \n",
    "| :------------- | :---------- | \n",
    "|`Readmitted`|Days to inpatient readmission. Values: \"0\" if the patient was readmitted in less than 30 days, \">30\" if the patient was readmitted in more than 30 days, and \"No\" for no record of readmission|\n",
    "|`Race Values`| Caucasian, Asian, African American or Hispanic|\n",
    "|`Gender Values`| Male, Female, and Unknown/Invalid|\n",
    "|`Age Grouped in 10-year intervals`|[0-10), [10-20), ..., [90-100)|\n",
    "|`Time in hospital`|Integer number of days between admission and discharge|\n",
    "|`Number of lab procedures`|Number of lab tests performed during the encounter|\n",
    "|`Number of procedures`|Numeric Number of procedures (other than lab tests) performed during the encounter|\n",
    "|`Number of medications`|Number of distinct generic names administered during the encounter|\n",
    "|`Number of outpatient visits`|Number of outpatient visits of the patient in the year preceding the encounter|\n",
    "|`Number of emergency visits`|Number of emergency visits of the patient in the year preceding the encounter|\n",
    "|`Number of inpatient visits`|Number of inpatient visits of the patient in the year preceding the encounter|\n",
    "|`Number of diagnoses`|Number of diagnoses entered to the system|\n",
    "|`Glucose serum test result`|Indicates the range of the result or if the test was not taken. Values: \">200\", \">300\",  \"normal\" and \"none\" if not measured|\n",
    "|`A1c test result`|Indicates the range of the result or if the test was not taken. Values: \">8\" if the result was greater than 8%, \">7\" if the result was greater than 7% but less than 8%, \"normal\" if the result was less than 7%, and \"none\" if not measured.|\n",
    "|`Change of medications`|Indicates if there was a change in diabetic medications (either dosage or generic name). Values: \"change\" and \"no change\"|\n",
    "|`Diabetes medications`|Indicates if there was any diabetic medication prescribed. Values: \"yes\" and \"no\" for 24 different kind of medical drugs.|"
   ]
  },
  {
   "cell_type": "markdown",
   "metadata": {},
   "source": [
    "##### Copy dataset from local to S3"
   ]
  },
  {
   "cell_type": "code",
   "execution_count": 4,
   "metadata": {},
   "outputs": [
    {
     "name": "stdout",
     "output_type": "stream",
     "text": [
      "Default S3 bucket = sagemaker-us-east-1-119174016168\n"
     ]
    }
   ],
   "source": [
    "session = sagemaker.Session()\n",
    "default_bucket = session.default_bucket()\n",
    "print(f'Default S3 bucket = {default_bucket}')"
   ]
  },
  {
   "cell_type": "code",
   "execution_count": 5,
   "metadata": {},
   "outputs": [
    {
     "name": "stdout",
     "output_type": "stream",
     "text": [
      "upload: data/diabetic_readmission.csv to s3://sagemaker-us-east-1-119174016168/datasets/diabetic_readmission.csv\n"
     ]
    }
   ],
   "source": [
    "!aws s3 cp ./data/diabetic_readmission.csv s3://{default_bucket}/datasets/diabetic_readmission.csv"
   ]
  },
  {
   "cell_type": "code",
   "execution_count": 6,
   "metadata": {},
   "outputs": [
    {
     "name": "stdout",
     "output_type": "stream",
     "text": [
      "upload: data/diabetic_transformed.csv to s3://sagemaker-us-east-1-119174016168/datasets/diabetic_transformed.csv\n"
     ]
    }
   ],
   "source": [
    "!aws s3 cp ./data/diabetic_transformed.csv s3://{default_bucket}/datasets/diabetic_transformed.csv"
   ]
  },
  {
   "cell_type": "code",
   "execution_count": null,
   "metadata": {},
   "outputs": [],
   "source": []
  }
 ],
 "metadata": {
  "instance_type": "ml.t3.medium",
  "kernelspec": {
   "display_name": "Python 3 (Data Science)",
   "language": "python",
   "name": "python3__SAGEMAKER_INTERNAL__arn:aws:sagemaker:us-east-1:081325390199:image/datascience-1.0"
  },
  "language_info": {
   "codemirror_mode": {
    "name": "ipython",
    "version": 3
   },
   "file_extension": ".py",
   "mimetype": "text/x-python",
   "name": "python",
   "nbconvert_exporter": "python",
   "pygments_lexer": "ipython3",
   "version": "3.7.10"
  }
 },
 "nbformat": 4,
 "nbformat_minor": 4
}
