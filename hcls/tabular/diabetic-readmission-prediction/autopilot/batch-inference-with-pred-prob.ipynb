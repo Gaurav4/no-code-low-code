{
 "cells": [
  {
   "cell_type": "markdown",
   "metadata": {},
   "source": [
    "#### Imports "
   ]
  },
  {
   "cell_type": "code",
   "execution_count": 1,
   "metadata": {},
   "outputs": [],
   "source": [
    "from time import gmtime, strftime, sleep\n",
    "from sagemaker import AutoML\n",
    "import pandas as pd\n",
    "import sagemaker \n",
    "import logging\n",
    "import boto3"
   ]
  },
  {
   "cell_type": "markdown",
   "metadata": {},
   "source": [
    "##### Setup logger"
   ]
  },
  {
   "cell_type": "code",
   "execution_count": 2,
   "metadata": {},
   "outputs": [],
   "source": [
    "logger = logging.getLogger('__name__')\n",
    "logger.setLevel(logging.DEBUG)\n",
    "logger.addHandler(logging.StreamHandler())"
   ]
  },
  {
   "cell_type": "markdown",
   "metadata": {},
   "source": [
    "#### Essentials"
   ]
  },
  {
   "cell_type": "code",
   "execution_count": 3,
   "metadata": {},
   "outputs": [],
   "source": [
    "bucket = sagemaker.Session().default_bucket()\n",
    "prefix = 'diabetic-readmission-prediction'\n",
    "region = 'us-east-1'"
   ]
  },
  {
   "cell_type": "code",
   "execution_count": 4,
   "metadata": {},
   "outputs": [
    {
     "data": {
      "text/plain": [
       "'s3://sagemaker-us-east-1-119174016168/diabetic-readmission-prediction/batch_input/'"
      ]
     },
     "execution_count": 4,
     "metadata": {},
     "output_type": "execute_result"
    }
   ],
   "source": [
    "batch_input = f's3://{bucket}/{prefix}/batch_input/'\n",
    "batch_input"
   ]
  },
  {
   "cell_type": "code",
   "execution_count": 5,
   "metadata": {},
   "outputs": [
    {
     "data": {
      "text/plain": [
       "'s3://sagemaker-us-east-1-119174016168/diabetic-readmission-prediction/batch_output/'"
      ]
     },
     "execution_count": 5,
     "metadata": {},
     "output_type": "execute_result"
    }
   ],
   "source": [
    "batch_output = f's3://{bucket}/{prefix}/batch_output/'\n",
    "batch_output"
   ]
  },
  {
   "cell_type": "code",
   "execution_count": 6,
   "metadata": {},
   "outputs": [],
   "source": [
    "current_timestamp = strftime('%Y-%m-%d-%H-%M-%S', gmtime())"
   ]
  },
  {
   "cell_type": "code",
   "execution_count": 7,
   "metadata": {},
   "outputs": [],
   "source": [
    "session = boto3.Session()\n",
    "sagemaker_session = sagemaker.session.Session()\n",
    "sagemaker_client = boto3.client('sagemaker', region_name=region)\n",
    "s3_client = boto3.client('s3')"
   ]
  },
  {
   "cell_type": "code",
   "execution_count": 8,
   "metadata": {},
   "outputs": [],
   "source": [
    "transform_job_name = f'autopilot-batch-job-{current_timestamp}'"
   ]
  },
  {
   "cell_type": "markdown",
   "metadata": {},
   "source": [
    "#### Copy batch input data from local to S3"
   ]
  },
  {
   "cell_type": "code",
   "execution_count": 9,
   "metadata": {},
   "outputs": [
    {
     "name": "stdout",
     "output_type": "stream",
     "text": [
      "upload: ../data/diabetic_readmission_unlabeled.csv to s3://sagemaker-us-east-1-119174016168/diabetic-readmission-prediction/batch_input/diabetic_readmission_unlabeled.csv\n"
     ]
    }
   ],
   "source": [
    "!aws s3 cp .././data/diabetic_readmission_unlabeled.csv {batch_input}"
   ]
  },
  {
   "cell_type": "markdown",
   "metadata": {},
   "source": [
    "#### Recreate best model from SageMaker Autopilot"
   ]
  },
  {
   "cell_type": "code",
   "execution_count": 10,
   "metadata": {},
   "outputs": [],
   "source": [
    "auto_ml_job_name = 'diabetic-readmission-prediction'  # Copy this from the console\n",
    "aml = AutoML.attach(auto_ml_job_name=auto_ml_job_name)"
   ]
  },
  {
   "cell_type": "code",
   "execution_count": 11,
   "metadata": {},
   "outputs": [
    {
     "name": "stderr",
     "output_type": "stream",
     "text": [
      "CandidateName: diabetic-readmission-predictioeS-187-52cde9d0\n",
      "FinalAutoMLJobObjectiveMetricName: validation:macro_f_beta\n",
      "FinalAutoMLJobObjectiveMetricValue: 0.4098981022834778\n"
     ]
    }
   ],
   "source": [
    "best_candidate = sagemaker_client.describe_auto_ml_job(AutoMLJobName=auto_ml_job_name)[\"BestCandidate\"]\n",
    "best_candidate_name = best_candidate[\"CandidateName\"]\n",
    "logger.info(f\"CandidateName: {best_candidate_name}\")\n",
    "logger.info(f'FinalAutoMLJobObjectiveMetricName: {best_candidate[\"FinalAutoMLJobObjectiveMetric\"][\"MetricName\"]}')\n",
    "logger.info(f'FinalAutoMLJobObjectiveMetricValue: {best_candidate[\"FinalAutoMLJobObjectiveMetric\"][\"Value\"]}')"
   ]
  },
  {
   "cell_type": "code",
   "execution_count": 12,
   "metadata": {},
   "outputs": [],
   "source": [
    "aml_best_model = aml.create_model(name=best_candidate_name,\n",
    "                                  candidate=None,\n",
    "                                  inference_response_keys=['probabilities', 'labels'])"
   ]
  },
  {
   "cell_type": "markdown",
   "metadata": {},
   "source": [
    "#### Create Batch Transform job"
   ]
  },
  {
   "cell_type": "code",
   "execution_count": 13,
   "metadata": {},
   "outputs": [
    {
     "name": "stderr",
     "output_type": "stream",
     "text": [
      "Using already existing model: diabetic-readmission-predictioeS-187-52cde9d0\n"
     ]
    }
   ],
   "source": [
    "aml_transformer = aml_best_model.transformer(accept='text/csv', \n",
    "                                             assemble_with='Line', \n",
    "                                             instance_type='ml.m5.xlarge', \n",
    "                                             instance_count=1,)"
   ]
  },
  {
   "cell_type": "code",
   "execution_count": 14,
   "metadata": {},
   "outputs": [],
   "source": [
    "aml_transformer.transform(batch_input,\n",
    "                          content_type='text/csv',\n",
    "                          split_type='Line',\n",
    "                          job_name=transform_job_name,\n",
    "                          wait=False)"
   ]
  },
  {
   "cell_type": "markdown",
   "metadata": {},
   "source": [
    "#### Check the status of the running Batch Transform job"
   ]
  },
  {
   "cell_type": "code",
   "execution_count": 15,
   "metadata": {},
   "outputs": [
    {
     "name": "stderr",
     "output_type": "stream",
     "text": [
      "[JobStatus]\n",
      "InProgress\n",
      "InProgress\n",
      "InProgress\n",
      "InProgress\n",
      "InProgress\n",
      "InProgress\n",
      "InProgress\n",
      "InProgress\n",
      "InProgress\n",
      "InProgress\n",
      "InProgress\n",
      "InProgress\n",
      "InProgress\n",
      "Completed\n"
     ]
    }
   ],
   "source": [
    "logger.info(\"[JobStatus]\")\n",
    "\n",
    "describe_response = sagemaker_client.describe_transform_job(TransformJobName=transform_job_name)\n",
    "job_run_status = describe_response[\"TransformJobStatus\"]\n",
    "logger.info(job_run_status)\n",
    "\n",
    "while job_run_status not in (\"Failed\", \"Completed\", \"Stopped\"):\n",
    "    describe_response = sagemaker_client.describe_transform_job(TransformJobName=transform_job_name)\n",
    "    job_run_status = describe_response[\"TransformJobStatus\"]\n",
    "    logger.info(job_run_status)\n",
    "    sleep(30)"
   ]
  },
  {
   "cell_type": "markdown",
   "metadata": {},
   "source": [
    "#### Download the output of the batch transform job from S3 to local"
   ]
  },
  {
   "cell_type": "code",
   "execution_count": 16,
   "metadata": {},
   "outputs": [],
   "source": [
    "s3_output_key = f\"{transform_job_name}/diabetic_readmission_unlabeled.csv.out\"\n",
    "local_inference_results_path = \".././data/inference_results_with_probabilities.csv\"\n",
    "\n",
    "s3 = boto3.resource(\"s3\")\n",
    "\n",
    "inference_results_bucket = s3.Bucket(sagemaker_session.default_bucket())\n",
    "\n",
    "inference_results_bucket.download_file(s3_output_key, local_inference_results_path)"
   ]
  },
  {
   "cell_type": "markdown",
   "metadata": {},
   "source": [
    "#### Inspect the results (prediction labels and probabilities)"
   ]
  },
  {
   "cell_type": "code",
   "execution_count": 17,
   "metadata": {},
   "outputs": [
    {
     "data": {
      "text/html": [
       "<div>\n",
       "<style scoped>\n",
       "    .dataframe tbody tr th:only-of-type {\n",
       "        vertical-align: middle;\n",
       "    }\n",
       "\n",
       "    .dataframe tbody tr th {\n",
       "        vertical-align: top;\n",
       "    }\n",
       "\n",
       "    .dataframe thead th {\n",
       "        text-align: right;\n",
       "    }\n",
       "</style>\n",
       "<table border=\"1\" class=\"dataframe\">\n",
       "  <thead>\n",
       "    <tr style=\"text-align: right;\">\n",
       "      <th></th>\n",
       "      <th>Probabilities</th>\n",
       "      <th>Labels</th>\n",
       "    </tr>\n",
       "  </thead>\n",
       "  <tbody>\n",
       "    <tr>\n",
       "      <th>0</th>\n",
       "      <td>[0.18437457084655762, 0.33086180686950684, 0.4...</td>\n",
       "      <td>['&lt;30', '&gt;30', 'no']</td>\n",
       "    </tr>\n",
       "    <tr>\n",
       "      <th>1</th>\n",
       "      <td>[0.1948574036359787, 0.293072372674942, 0.5120...</td>\n",
       "      <td>['&lt;30', '&gt;30', 'no']</td>\n",
       "    </tr>\n",
       "    <tr>\n",
       "      <th>2</th>\n",
       "      <td>[0.27881544828414917, 0.4338899850845337, 0.28...</td>\n",
       "      <td>['&lt;30', '&gt;30', 'no']</td>\n",
       "    </tr>\n",
       "    <tr>\n",
       "      <th>3</th>\n",
       "      <td>[0.297400563955307, 0.328758180141449, 0.37384...</td>\n",
       "      <td>['&lt;30', '&gt;30', 'no']</td>\n",
       "    </tr>\n",
       "    <tr>\n",
       "      <th>4</th>\n",
       "      <td>[0.3162025511264801, 0.3914549946784973, 0.292...</td>\n",
       "      <td>['&lt;30', '&gt;30', 'no']</td>\n",
       "    </tr>\n",
       "  </tbody>\n",
       "</table>\n",
       "</div>"
      ],
      "text/plain": [
       "                                       Probabilities                Labels\n",
       "0  [0.18437457084655762, 0.33086180686950684, 0.4...  ['<30', '>30', 'no']\n",
       "1  [0.1948574036359787, 0.293072372674942, 0.5120...  ['<30', '>30', 'no']\n",
       "2  [0.27881544828414917, 0.4338899850845337, 0.28...  ['<30', '>30', 'no']\n",
       "3  [0.297400563955307, 0.328758180141449, 0.37384...  ['<30', '>30', 'no']\n",
       "4  [0.3162025511264801, 0.3914549946784973, 0.292...  ['<30', '>30', 'no']"
      ]
     },
     "execution_count": 17,
     "metadata": {},
     "output_type": "execute_result"
    }
   ],
   "source": [
    "data = pd.read_csv(local_inference_results_path, sep=\",\", names=['Probabilities', 'Labels'])\n",
    "pd.set_option(\"display.max_rows\", 10)  \n",
    "data"
   ]
  },
  {
   "cell_type": "code",
   "execution_count": null,
   "metadata": {},
   "outputs": [],
   "source": []
  }
 ],
 "metadata": {
  "instance_type": "ml.t3.medium",
  "kernelspec": {
   "display_name": "Python 3 (Data Science)",
   "language": "python",
   "name": "python3__SAGEMAKER_INTERNAL__arn:aws:sagemaker:us-east-1:081325390199:image/datascience-1.0"
  },
  "language_info": {
   "codemirror_mode": {
    "name": "ipython",
    "version": 3
   },
   "file_extension": ".py",
   "mimetype": "text/x-python",
   "name": "python",
   "nbconvert_exporter": "python",
   "pygments_lexer": "ipython3",
   "version": "3.7.10"
  }
 },
 "nbformat": 4,
 "nbformat_minor": 4
}
