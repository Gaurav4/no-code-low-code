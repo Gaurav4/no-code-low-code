{
 "cells": [
  {
   "cell_type": "markdown",
   "metadata": {},
   "source": [
    "#### Imports "
   ]
  },
  {
   "cell_type": "code",
   "execution_count": 1,
   "metadata": {},
   "outputs": [],
   "source": [
    "import pandas as pd\n",
    "import sagemaker"
   ]
  },
  {
   "cell_type": "markdown",
   "metadata": {},
   "source": [
    "#### Explore data"
   ]
  },
  {
   "cell_type": "code",
   "execution_count": 2,
   "metadata": {},
   "outputs": [
    {
     "data": {
      "text/html": [
       "<div>\n",
       "<style scoped>\n",
       "    .dataframe tbody tr th:only-of-type {\n",
       "        vertical-align: middle;\n",
       "    }\n",
       "\n",
       "    .dataframe tbody tr th {\n",
       "        vertical-align: top;\n",
       "    }\n",
       "\n",
       "    .dataframe thead th {\n",
       "        text-align: right;\n",
       "    }\n",
       "</style>\n",
       "<table border=\"1\" class=\"dataframe\">\n",
       "  <thead>\n",
       "    <tr style=\"text-align: right;\">\n",
       "      <th></th>\n",
       "      <th>specialty</th>\n",
       "      <th>transcription</th>\n",
       "    </tr>\n",
       "  </thead>\n",
       "  <tbody>\n",
       "    <tr>\n",
       "      <th>0</th>\n",
       "      <td>Allergy_Immunology</td>\n",
       "      <td>A 23-year-old white female presents with compl...</td>\n",
       "    </tr>\n",
       "    <tr>\n",
       "      <th>1</th>\n",
       "      <td>Bariatrics</td>\n",
       "      <td>Consult for laparoscopic gastric bypass. PAST ...</td>\n",
       "    </tr>\n",
       "    <tr>\n",
       "      <th>2</th>\n",
       "      <td>Bariatrics</td>\n",
       "      <td>Consult for laparoscopic gastric bypass. HISTO...</td>\n",
       "    </tr>\n",
       "    <tr>\n",
       "      <th>3</th>\n",
       "      <td>Cardiovascular_Pulmonary</td>\n",
       "      <td>2-D M-Mode. Doppler. 2-D M-MODE: , ,1.  Left a...</td>\n",
       "    </tr>\n",
       "    <tr>\n",
       "      <th>4</th>\n",
       "      <td>Cardiovascular_Pulmonary</td>\n",
       "      <td>2-D Echocardiogram 1.  The left ventricular ca...</td>\n",
       "    </tr>\n",
       "  </tbody>\n",
       "</table>\n",
       "</div>"
      ],
      "text/plain": [
       "                  specialty                                      transcription\n",
       "0        Allergy_Immunology  A 23-year-old white female presents with compl...\n",
       "1                Bariatrics  Consult for laparoscopic gastric bypass. PAST ...\n",
       "2                Bariatrics  Consult for laparoscopic gastric bypass. HISTO...\n",
       "3  Cardiovascular_Pulmonary  2-D M-Mode. Doppler. 2-D M-MODE: , ,1.  Left a...\n",
       "4  Cardiovascular_Pulmonary  2-D Echocardiogram 1.  The left ventricular ca..."
      ]
     },
     "execution_count": 2,
     "metadata": {},
     "output_type": "execute_result"
    }
   ],
   "source": [
    "df = pd.read_csv('./data/medical_transcripts.csv')\n",
    "df.head()"
   ]
  },
  {
   "cell_type": "code",
   "execution_count": 3,
   "metadata": {},
   "outputs": [
    {
     "data": {
      "text/plain": [
       "(2799, 2)"
      ]
     },
     "execution_count": 3,
     "metadata": {},
     "output_type": "execute_result"
    }
   ],
   "source": [
    "df.shape"
   ]
  },
  {
   "cell_type": "code",
   "execution_count": 4,
   "metadata": {},
   "outputs": [
    {
     "data": {
      "text/plain": [
       "'A 23-year-old white female presents with complaint of allergies. SUBJECTIVE:,  This 23-year-old white female presents with complaint of allergies.  She used to have allergies when she lived in Seattle but she thinks they are worse here.  In the past, she has tried Claritin, and Zyrtec.  Both worked for short time but then seemed to lose effectiveness.  She has used Allegra also.  She used that last summer and she began using it again two weeks ago.  It does not appear to be working very well.  She has used over-the-counter sprays but no prescription nasal sprays.  She does have asthma but doest not require daily medication for this and does not think it is flaring up.,MEDICATIONS: , Her only medication currently is Ortho Tri-Cyclen and the Allegra.,ALLERGIES: , She has no known medicine allergies.,OBJECTIVE:,Vitals:  Weight was 130 pounds and blood pressure 124/78.,HEENT:  Her throat was mildly erythematous without exudate.  Nasal mucosa was erythematous and swollen.  Only clear drainage was seen.  TMs were clear.,Neck:  Supple without adenopathy.,Lungs:  Clear.,ASSESSMENT:,  Allergic rhinitis.,PLAN:,1.  She will try Zyrtec instead of Allegra again.  Another option will be to use loratadine.  She does not think she has prescription coverage so that might be cheaper.,2.  Samples of Nasonex two sprays in each nostril given for three weeks.  A prescription was written as well.'"
      ]
     },
     "execution_count": 4,
     "metadata": {},
     "output_type": "execute_result"
    }
   ],
   "source": [
    "df['transcription'].tolist()[0]"
   ]
  },
  {
   "cell_type": "code",
   "execution_count": 5,
   "metadata": {},
   "outputs": [
    {
     "data": {
      "text/plain": [
       "{'Allergy_Immunology',\n",
       " 'Bariatrics',\n",
       " 'Cardiovascular_Pulmonary',\n",
       " 'Dentistry',\n",
       " 'General_Medicine',\n",
       " 'Neurology',\n",
       " 'Neurosurgery',\n",
       " 'Obstetrics_Gynecology',\n",
       " 'Office_Notes',\n",
       " 'Ophthalmology',\n",
       " 'Orthopedic',\n",
       " 'Pain_Management',\n",
       " 'Pediatrics_Neonatal',\n",
       " 'Physical_Medicine_Rehab',\n",
       " 'Podiatry',\n",
       " 'Psychiatry_Psychology',\n",
       " 'Radiology',\n",
       " 'Rheumatology',\n",
       " 'SOAP_Chart_Progress_Notes',\n",
       " 'Sleep_Medicine',\n",
       " 'Speech_Language',\n",
       " 'Surgery',\n",
       " 'Urology'}"
      ]
     },
     "execution_count": 5,
     "metadata": {},
     "output_type": "execute_result"
    }
   ],
   "source": [
    "set(df['specialty'].tolist())"
   ]
  },
  {
   "cell_type": "markdown",
   "metadata": {},
   "source": [
    "#### Encode data to be Jumpstart ready"
   ]
  },
  {
   "cell_type": "code",
   "execution_count": 6,
   "metadata": {},
   "outputs": [],
   "source": [
    "label_map = {'Allergy_Immunology': 0,\n",
    "             'Bariatrics': 1,\n",
    "             'Cardiovascular_Pulmonary': 2,\n",
    "             'Dentistry': 3,\n",
    "             'General_Medicine': 4,\n",
    "             'Neurology': 5,\n",
    "             'Neurosurgery': 6,\n",
    "             'Obstetrics_Gynecology': 7,\n",
    "             'Office_Notes': 8,\n",
    "             'Ophthalmology': 9,\n",
    "             'Orthopedic': 10,\n",
    "             'Pain_Management': 11,\n",
    "             'Pediatrics_Neonatal': 12,\n",
    "             'Physical_Medicine_Rehab': 13,\n",
    "             'Podiatry': 14,\n",
    "             'Psychiatry_Psychology': 15,\n",
    "             'Radiology': 16,\n",
    "             'Rheumatology': 17,\n",
    "             'SOAP_Chart_Progress_Notes': 18,\n",
    "             'Sleep_Medicine': 19,\n",
    "             'Speech_Language': 20,\n",
    "             'Surgery': 21,\n",
    "             'Urology': 22\n",
    "            }"
   ]
  },
  {
   "cell_type": "code",
   "execution_count": 7,
   "metadata": {},
   "outputs": [],
   "source": [
    "inverse_label_map = {0: 'Allergy_Immunology',\n",
    "                     1: 'Bariatrics',\n",
    "                     2: 'Cardiovascular_Pulmonary',\n",
    "                     3: 'Dentistry',\n",
    "                     4: 'General_Medicine',\n",
    "                     5: 'Neurology',\n",
    "                     6: 'Neurosurgery',\n",
    "                     7: 'Obstetrics_Gynecology',\n",
    "                     8: 'Office_Notes',\n",
    "                     9: 'Ophthalmology',\n",
    "                     10: 'Orthopedic',\n",
    "                     11: 'Pain_Management',\n",
    "                     12: 'Pediatrics_Neonatal',\n",
    "                     13: 'Physical_Medicine_Rehab',\n",
    "                     14: 'Podiatry',\n",
    "                     15: 'Psychiatry_Psychology',\n",
    "                     16: 'Radiology',\n",
    "                     17: 'Rheumatology',\n",
    "                     18: 'SOAP_Chart_Progress_Notes',\n",
    "                     19: 'Sleep_Medicine',\n",
    "                     20: 'Speech_Language',\n",
    "                     21: 'Surgery',\n",
    "                     22: 'Urology'\n",
    "                   }"
   ]
  },
  {
   "cell_type": "code",
   "execution_count": 8,
   "metadata": {},
   "outputs": [
    {
     "data": {
      "text/html": [
       "<div>\n",
       "<style scoped>\n",
       "    .dataframe tbody tr th:only-of-type {\n",
       "        vertical-align: middle;\n",
       "    }\n",
       "\n",
       "    .dataframe tbody tr th {\n",
       "        vertical-align: top;\n",
       "    }\n",
       "\n",
       "    .dataframe thead th {\n",
       "        text-align: right;\n",
       "    }\n",
       "</style>\n",
       "<table border=\"1\" class=\"dataframe\">\n",
       "  <thead>\n",
       "    <tr style=\"text-align: right;\">\n",
       "      <th></th>\n",
       "      <th>specialty</th>\n",
       "      <th>transcription</th>\n",
       "    </tr>\n",
       "  </thead>\n",
       "  <tbody>\n",
       "    <tr>\n",
       "      <th>0</th>\n",
       "      <td>0</td>\n",
       "      <td>A 23-year-old white female presents with compl...</td>\n",
       "    </tr>\n",
       "    <tr>\n",
       "      <th>1</th>\n",
       "      <td>1</td>\n",
       "      <td>Consult for laparoscopic gastric bypass. PAST ...</td>\n",
       "    </tr>\n",
       "    <tr>\n",
       "      <th>2</th>\n",
       "      <td>1</td>\n",
       "      <td>Consult for laparoscopic gastric bypass. HISTO...</td>\n",
       "    </tr>\n",
       "    <tr>\n",
       "      <th>3</th>\n",
       "      <td>2</td>\n",
       "      <td>2-D M-Mode. Doppler. 2-D M-MODE: , ,1.  Left a...</td>\n",
       "    </tr>\n",
       "    <tr>\n",
       "      <th>4</th>\n",
       "      <td>2</td>\n",
       "      <td>2-D Echocardiogram 1.  The left ventricular ca...</td>\n",
       "    </tr>\n",
       "  </tbody>\n",
       "</table>\n",
       "</div>"
      ],
      "text/plain": [
       "   specialty                                      transcription\n",
       "0          0  A 23-year-old white female presents with compl...\n",
       "1          1  Consult for laparoscopic gastric bypass. PAST ...\n",
       "2          1  Consult for laparoscopic gastric bypass. HISTO...\n",
       "3          2  2-D M-Mode. Doppler. 2-D M-MODE: , ,1.  Left a...\n",
       "4          2  2-D Echocardiogram 1.  The left ventricular ca..."
      ]
     },
     "execution_count": 8,
     "metadata": {},
     "output_type": "execute_result"
    }
   ],
   "source": [
    "encoded_df = df.replace({'specialty': label_map})\n",
    "encoded_df.head()"
   ]
  },
  {
   "cell_type": "code",
   "execution_count": 9,
   "metadata": {},
   "outputs": [],
   "source": [
    "encoded_df.to_csv('./data/data.csv', header=False, index=False)"
   ]
  },
  {
   "cell_type": "markdown",
   "metadata": {},
   "source": [
    "##### Check encoded csv"
   ]
  },
  {
   "cell_type": "code",
   "execution_count": 10,
   "metadata": {},
   "outputs": [
    {
     "data": {
      "text/html": [
       "<div>\n",
       "<style scoped>\n",
       "    .dataframe tbody tr th:only-of-type {\n",
       "        vertical-align: middle;\n",
       "    }\n",
       "\n",
       "    .dataframe tbody tr th {\n",
       "        vertical-align: top;\n",
       "    }\n",
       "\n",
       "    .dataframe thead th {\n",
       "        text-align: right;\n",
       "    }\n",
       "</style>\n",
       "<table border=\"1\" class=\"dataframe\">\n",
       "  <thead>\n",
       "    <tr style=\"text-align: right;\">\n",
       "      <th></th>\n",
       "      <th>label</th>\n",
       "      <th>transcript</th>\n",
       "    </tr>\n",
       "  </thead>\n",
       "  <tbody>\n",
       "    <tr>\n",
       "      <th>0</th>\n",
       "      <td>0</td>\n",
       "      <td>A 23-year-old white female presents with compl...</td>\n",
       "    </tr>\n",
       "    <tr>\n",
       "      <th>1</th>\n",
       "      <td>1</td>\n",
       "      <td>Consult for laparoscopic gastric bypass. PAST ...</td>\n",
       "    </tr>\n",
       "    <tr>\n",
       "      <th>2</th>\n",
       "      <td>1</td>\n",
       "      <td>Consult for laparoscopic gastric bypass. HISTO...</td>\n",
       "    </tr>\n",
       "    <tr>\n",
       "      <th>3</th>\n",
       "      <td>2</td>\n",
       "      <td>2-D M-Mode. Doppler. 2-D M-MODE: , ,1.  Left a...</td>\n",
       "    </tr>\n",
       "    <tr>\n",
       "      <th>4</th>\n",
       "      <td>2</td>\n",
       "      <td>2-D Echocardiogram 1.  The left ventricular ca...</td>\n",
       "    </tr>\n",
       "  </tbody>\n",
       "</table>\n",
       "</div>"
      ],
      "text/plain": [
       "   label                                         transcript\n",
       "0      0  A 23-year-old white female presents with compl...\n",
       "1      1  Consult for laparoscopic gastric bypass. PAST ...\n",
       "2      1  Consult for laparoscopic gastric bypass. HISTO...\n",
       "3      2  2-D M-Mode. Doppler. 2-D M-MODE: , ,1.  Left a...\n",
       "4      2  2-D Echocardiogram 1.  The left ventricular ca..."
      ]
     },
     "execution_count": 10,
     "metadata": {},
     "output_type": "execute_result"
    }
   ],
   "source": [
    "df = pd.read_csv('./data/data.csv', names=['label', 'transcript'])\n",
    "df.head()"
   ]
  },
  {
   "cell_type": "code",
   "execution_count": 11,
   "metadata": {},
   "outputs": [
    {
     "data": {
      "text/plain": [
       "'Allergy_Immunology'"
      ]
     },
     "execution_count": 11,
     "metadata": {},
     "output_type": "execute_result"
    }
   ],
   "source": [
    "inverse_label_map[df['label'][0]]"
   ]
  },
  {
   "cell_type": "markdown",
   "metadata": {},
   "source": [
    "#### Copy dataset from local to S3"
   ]
  },
  {
   "cell_type": "code",
   "execution_count": 12,
   "metadata": {},
   "outputs": [
    {
     "name": "stdout",
     "output_type": "stream",
     "text": [
      "Default S3 bucket = sagemaker-us-east-1-119174016168\n"
     ]
    }
   ],
   "source": [
    "session = sagemaker.Session()\n",
    "default_bucket = session.default_bucket()\n",
    "print(f'Default S3 bucket = {default_bucket}')"
   ]
  },
  {
   "cell_type": "markdown",
   "metadata": {},
   "source": [
    "Remove checkpoints if any"
   ]
  },
  {
   "cell_type": "code",
   "execution_count": 13,
   "metadata": {},
   "outputs": [],
   "source": [
    "!rm -rf ./data/.ipynb_checkpoints/"
   ]
  },
  {
   "cell_type": "code",
   "execution_count": 14,
   "metadata": {},
   "outputs": [
    {
     "name": "stdout",
     "output_type": "stream",
     "text": [
      "upload: data/data.csv to s3://sagemaker-us-east-1-119174016168/transcripts/data.csv\n"
     ]
    }
   ],
   "source": [
    "!aws s3 cp ./data/data.csv s3://{default_bucket}/transcripts/data.csv"
   ]
  },
  {
   "cell_type": "code",
   "execution_count": null,
   "metadata": {},
   "outputs": [],
   "source": []
  }
 ],
 "metadata": {
  "instance_type": "ml.t3.medium",
  "kernelspec": {
   "display_name": "Python 3 (Data Science)",
   "language": "python",
   "name": "python3__SAGEMAKER_INTERNAL__arn:aws:sagemaker:us-east-1:081325390199:image/datascience-1.0"
  },
  "language_info": {
   "codemirror_mode": {
    "name": "ipython",
    "version": 3
   },
   "file_extension": ".py",
   "mimetype": "text/x-python",
   "name": "python",
   "nbconvert_exporter": "python",
   "pygments_lexer": "ipython3",
   "version": "3.7.10"
  }
 },
 "nbformat": 4,
 "nbformat_minor": 4
}
