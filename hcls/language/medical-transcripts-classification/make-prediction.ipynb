{
 "cells": [
  {
   "cell_type": "markdown",
   "metadata": {},
   "source": [
    "##### Imports "
   ]
  },
  {
   "cell_type": "code",
   "execution_count": 1,
   "metadata": {},
   "outputs": [],
   "source": [
    "import boto3\n",
    "import json"
   ]
  },
  {
   "cell_type": "markdown",
   "metadata": {},
   "source": [
    "##### Essentials"
   ]
  },
  {
   "cell_type": "code",
   "execution_count": 2,
   "metadata": {},
   "outputs": [],
   "source": [
    "# ENDPOINT_NAME = 'ENTER DEPLOYMENT ENDPOINT HERE'\n",
    "ENDPOINT_NAME = 'jumpstart-ftc-tf-tc-experts-bert-pubmed-1'\n",
    "CONTENT_TYPE = 'application/x-text'"
   ]
  },
  {
   "cell_type": "code",
   "execution_count": 3,
   "metadata": {},
   "outputs": [],
   "source": [
    "sagemaker = boto3.client('runtime.sagemaker')"
   ]
  },
  {
   "cell_type": "markdown",
   "metadata": {},
   "source": [
    "#### Invoke SageMaker endpoint for prediction "
   ]
  },
  {
   "cell_type": "code",
   "execution_count": 4,
   "metadata": {},
   "outputs": [],
   "source": [
    "inverse_label_map = {0: 'Allergy_Immunology',\n",
    "                     1: 'Bariatrics',\n",
    "                     2: 'Cardiovascular_Pulmonary',\n",
    "                     3: 'Dentistry',\n",
    "                     4: 'General_Medicine',\n",
    "                     5: 'Neurology',\n",
    "                     6: 'Neurosurgery',\n",
    "                     7: 'Obstetrics_Gynecology',\n",
    "                     8: 'Office_Notes',\n",
    "                     9: 'Ophthalmology',\n",
    "                     10: 'Orthopedic',\n",
    "                     11: 'Pain_Management',\n",
    "                     12: 'Pediatrics_Neonatal',\n",
    "                     13: 'Physical_Medicine_Rehab',\n",
    "                     14: 'Podiatry',\n",
    "                     15: 'Psychiatry_Psychology',\n",
    "                     16: 'Radiology',\n",
    "                     17: 'Rheumatology',\n",
    "                     18: 'SOAP_Chart_Progress_Notes',\n",
    "                     19: 'Sleep_Medicine',\n",
    "                     20: 'Speech_Language',\n",
    "                     21: 'Surgery',\n",
    "                     22: 'Urology'\n",
    "                   }"
   ]
  },
  {
   "cell_type": "code",
   "execution_count": 5,
   "metadata": {},
   "outputs": [],
   "source": [
    "def predict(encoded_text):\n",
    "    response = sagemaker.invoke_endpoint(EndpointName=ENDPOINT_NAME, \n",
    "                                         ContentType=CONTENT_TYPE, \n",
    "                                         Body=encoded_text)\n",
    "    prediction = json.loads(response['Body'].read())['probabilities']\n",
    "    class_index = prediction.index(max(prediction))\n",
    "    return inverse_label_map[class_index]"
   ]
  },
  {
   "cell_type": "code",
   "execution_count": 6,
   "metadata": {},
   "outputs": [
    {
     "data": {
      "text/plain": [
       "'Transesophageal echocardiogram due to vegetation and bacteremia. Normal left ventricular size and function.  Echodensity involving the aortic valve suggestive of endocarditis and vegetation. Doppler study as above most pronounced being moderate-to-severe aortic insufficiency. REASON FOR EXAM: , Vegetation and bacteremia.,PROCEDURE: , Transesophageal echocardiogram.,INTERPRETATION: , The procedure and its complications were explained to the patient in detail and formal consent was obtained.  The patient was brought to special procedure unit.  His throat was anesthetized with lidocaine spray.  Subsequently, 2 mg of IV Versed was given for sedation.  The patient was positioned.  Probe was introduced without any difficulty.  The patient tolerated the procedure very well.  Probe was taken out.  No complications were noted.  Findings are as mentioned below.,FINDINGS:,1.  Left ventricle has normal size and dimensions with normal function.  Ejection fraction of 60%.,2.  Left atrium and right-sided chambers were of normal size and dimensions.,3.  Left atrial appendage is clean without any clot or smoke effect.,4.  Atrial septum is intact.  Bubble study was negative.,5.  Mitral valve is structurally normal.,6.  Aortic valve reveals echodensity suggestive of vegetation.,7.  Tricuspid valve was structurally normal.,8.  Doppler reveals moderate mitral regurgitation and moderate-to-severe aortic regurgitation.,9.  Aorta is benign.,IMPRESSION:,1.  Normal left ventricular size and function.,2.  Echodensity involving the aortic valve suggestive of endocarditis and vegetation.,3.  Doppler study as above most pronounced being moderate-to-severe aortic insufficiency.'"
      ]
     },
     "execution_count": 6,
     "metadata": {},
     "output_type": "execute_result"
    }
   ],
   "source": [
    "text = 'Transesophageal echocardiogram due to vegetation and bacteremia. Normal left ventricular size and function.  Echodensity involving the aortic valve suggestive of endocarditis and vegetation. Doppler study as above most pronounced being moderate-to-severe aortic insufficiency. REASON FOR EXAM: , Vegetation and bacteremia.,PROCEDURE: , Transesophageal echocardiogram.,INTERPRETATION: , The procedure and its complications were explained to the patient in detail and formal consent was obtained.  The patient was brought to special procedure unit.  His throat was anesthetized with lidocaine spray.  Subsequently, 2 mg of IV Versed was given for sedation.  The patient was positioned.  Probe was introduced without any difficulty.  The patient tolerated the procedure very well.  Probe was taken out.  No complications were noted.  Findings are as mentioned below.,FINDINGS:,1.  Left ventricle has normal size and dimensions with normal function.  Ejection fraction of 60%.,2.  Left atrium and right-sided chambers were of normal size and dimensions.,3.  Left atrial appendage is clean without any clot or smoke effect.,4.  Atrial septum is intact.  Bubble study was negative.,5.  Mitral valve is structurally normal.,6.  Aortic valve reveals echodensity suggestive of vegetation.,7.  Tricuspid valve was structurally normal.,8.  Doppler reveals moderate mitral regurgitation and moderate-to-severe aortic regurgitation.,9.  Aorta is benign.,IMPRESSION:,1.  Normal left ventricular size and function.,2.  Echodensity involving the aortic valve suggestive of endocarditis and vegetation.,3.  Doppler study as above most pronounced being moderate-to-severe aortic insufficiency.'\n",
    "text"
   ]
  },
  {
   "cell_type": "code",
   "execution_count": 7,
   "metadata": {},
   "outputs": [
    {
     "name": "stdout",
     "output_type": "stream",
     "text": [
      "Predicted sentiment = Radiology\n"
     ]
    }
   ],
   "source": [
    "prediction = predict(text)\n",
    "print(f'Predicted sentiment = {prediction}')"
   ]
  },
  {
   "cell_type": "code",
   "execution_count": null,
   "metadata": {},
   "outputs": [],
   "source": []
  }
 ],
 "metadata": {
  "instance_type": "ml.t3.medium",
  "kernelspec": {
   "display_name": "Python 3 (Data Science)",
   "language": "python",
   "name": "python3__SAGEMAKER_INTERNAL__arn:aws:sagemaker:us-east-1:081325390199:image/datascience-1.0"
  },
  "language_info": {
   "codemirror_mode": {
    "name": "ipython",
    "version": 3
   },
   "file_extension": ".py",
   "mimetype": "text/x-python",
   "name": "python",
   "nbconvert_exporter": "python",
   "pygments_lexer": "ipython3",
   "version": "3.7.10"
  }
 },
 "nbformat": 4,
 "nbformat_minor": 4
}
