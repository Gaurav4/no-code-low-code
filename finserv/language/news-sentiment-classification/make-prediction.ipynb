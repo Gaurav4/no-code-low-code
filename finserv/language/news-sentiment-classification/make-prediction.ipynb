{
 "cells": [
  {
   "cell_type": "markdown",
   "metadata": {},
   "source": [
    "#### Imports "
   ]
  },
  {
   "cell_type": "code",
   "execution_count": 1,
   "metadata": {},
   "outputs": [],
   "source": [
    "import boto3\n",
    "import json"
   ]
  },
  {
   "cell_type": "markdown",
   "metadata": {},
   "source": [
    "#### Essentials"
   ]
  },
  {
   "cell_type": "code",
   "execution_count": 2,
   "metadata": {},
   "outputs": [],
   "source": [
    "# ENDPOINT_NAME = 'ENTER DEPLOYMENT ENDPOINT HERE'\n",
    "ENDPOINT_NAME = 'jumpstart-dft-news-sentiment-classifier'\n",
    "CONTENT_TYPE = 'application/x-text'"
   ]
  },
  {
   "cell_type": "code",
   "execution_count": 3,
   "metadata": {},
   "outputs": [],
   "source": [
    "sagemaker = boto3.client('runtime.sagemaker')"
   ]
  },
  {
   "cell_type": "markdown",
   "metadata": {},
   "source": [
    "#### Invoke SageMaker Endpoint for Prediction"
   ]
  },
  {
   "cell_type": "code",
   "execution_count": 4,
   "metadata": {},
   "outputs": [],
   "source": [
    "label_map = {0: 'negative', 1: 'positive', 2: 'neutral'}"
   ]
  },
  {
   "cell_type": "code",
   "execution_count": 5,
   "metadata": {},
   "outputs": [],
   "source": [
    "def predict(encoded_text):\n",
    "    response = sagemaker.invoke_endpoint(EndpointName=ENDPOINT_NAME, \n",
    "                                         ContentType=CONTENT_TYPE, \n",
    "                                         Body=encoded_text)\n",
    "    prediction = json.loads(response['Body'].read())['predictions'][0]\n",
    "    class_index = prediction.index(max(prediction))\n",
    "    return label_map[class_index]"
   ]
  },
  {
   "cell_type": "markdown",
   "metadata": {},
   "source": [
    "##### Test Neutral case"
   ]
  },
  {
   "cell_type": "code",
   "execution_count": 6,
   "metadata": {},
   "outputs": [
    {
     "data": {
      "text/plain": [
       "'Apple plans to develop in stages an area of no less than 100,000 sq. meters in order to host companies working in information technologies and telecommunications'"
      ]
     },
     "execution_count": 6,
     "metadata": {},
     "output_type": "execute_result"
    }
   ],
   "source": [
    "text = 'Apple plans to develop in stages an area of no less than 100,000 sq. meters in order to host companies working in information technologies and telecommunications'\n",
    "text"
   ]
  },
  {
   "cell_type": "code",
   "execution_count": 7,
   "metadata": {},
   "outputs": [
    {
     "name": "stdout",
     "output_type": "stream",
     "text": [
      "Predicted sentiment = negative\n"
     ]
    }
   ],
   "source": [
    "prediction = predict(text)\n",
    "print(f'Predicted sentiment = {prediction}')"
   ]
  },
  {
   "cell_type": "markdown",
   "metadata": {},
   "source": [
    "##### Test Positive case"
   ]
  },
  {
   "cell_type": "code",
   "execution_count": 8,
   "metadata": {},
   "outputs": [
    {
     "data": {
      "text/plain": [
       "\"According to the company's updated strategy for the years 2021-2022 , Amazon targets a long-term net sales growth in the range of 20 to 25% with an operating profit margin of 30 to 35% of net sales.\""
      ]
     },
     "execution_count": 8,
     "metadata": {},
     "output_type": "execute_result"
    }
   ],
   "source": [
    "text = \"According to the company's updated strategy for the years 2021-2022 , Amazon targets a long-term net sales growth in the range of 20 to 25% with an operating profit margin of 30 to 35% of net sales.\"\n",
    "text"
   ]
  },
  {
   "cell_type": "code",
   "execution_count": 9,
   "metadata": {},
   "outputs": [
    {
     "name": "stdout",
     "output_type": "stream",
     "text": [
      "Predicted sentiment = positive\n"
     ]
    }
   ],
   "source": [
    "prediction = predict(text)\n",
    "print(f'Predicted sentiment = {prediction}')"
   ]
  },
  {
   "cell_type": "markdown",
   "metadata": {},
   "source": [
    "##### Test Negative case"
   ]
  },
  {
   "cell_type": "code",
   "execution_count": 10,
   "metadata": {},
   "outputs": [
    {
     "data": {
      "text/plain": [
       "'The international electronic industry company Samsung has laid off tens of employees from its Noida facility ; contrary to earlier layoffs the company contracted the ranks of its office workers , the daily Postimees reported.'"
      ]
     },
     "execution_count": 10,
     "metadata": {},
     "output_type": "execute_result"
    }
   ],
   "source": [
    "text = 'The international electronic industry company Samsung has laid off tens of employees from its Noida facility ; contrary to earlier layoffs the company contracted the ranks of its office workers , the daily Postimees reported.'\n",
    "text"
   ]
  },
  {
   "cell_type": "code",
   "execution_count": 11,
   "metadata": {},
   "outputs": [
    {
     "name": "stdout",
     "output_type": "stream",
     "text": [
      "Predicted sentiment = positive\n"
     ]
    }
   ],
   "source": [
    "prediction = predict(text)\n",
    "print(f'Predicted sentiment = {prediction}')"
   ]
  },
  {
   "cell_type": "code",
   "execution_count": null,
   "metadata": {},
   "outputs": [],
   "source": []
  },
  {
   "cell_type": "code",
   "execution_count": null,
   "metadata": {},
   "outputs": [],
   "source": []
  }
 ],
 "metadata": {
  "instance_type": "ml.t3.medium",
  "kernelspec": {
   "display_name": "Python 3 (Data Science)",
   "language": "python",
   "name": "python3__SAGEMAKER_INTERNAL__arn:aws:sagemaker:us-east-1:081325390199:image/datascience-1.0"
  },
  "language_info": {
   "codemirror_mode": {
    "name": "ipython",
    "version": 3
   },
   "file_extension": ".py",
   "mimetype": "text/x-python",
   "name": "python",
   "nbconvert_exporter": "python",
   "pygments_lexer": "ipython3",
   "version": "3.7.10"
  }
 },
 "nbformat": 4,
 "nbformat_minor": 4
}
