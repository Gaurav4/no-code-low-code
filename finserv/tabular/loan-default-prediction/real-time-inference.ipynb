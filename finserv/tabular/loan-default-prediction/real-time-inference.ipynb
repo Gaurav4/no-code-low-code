{
 "cells": [
  {
   "cell_type": "markdown",
   "metadata": {},
   "source": [
    "#### Imports "
   ]
  },
  {
   "cell_type": "code",
   "execution_count": 1,
   "metadata": {},
   "outputs": [],
   "source": [
    "import boto3\n",
    "import json"
   ]
  },
  {
   "cell_type": "markdown",
   "metadata": {},
   "source": [
    "#### Essentials"
   ]
  },
  {
   "cell_type": "code",
   "execution_count": 2,
   "metadata": {},
   "outputs": [],
   "source": [
    "# ENDPOINT_NAME = 'ENTER DEPLOYMENT ENDPOINT HERE'\n",
    "ENDPOINT_NAME = 'predict-loan-default'\n",
    "CONTENT_TYPE = 'text/csv'"
   ]
  },
  {
   "cell_type": "code",
   "execution_count": 3,
   "metadata": {},
   "outputs": [],
   "source": [
    "sagemaker = boto3.client('runtime.sagemaker')"
   ]
  },
  {
   "cell_type": "markdown",
   "metadata": {},
   "source": [
    "#### Invoke SageMaker Endpoint for Prediction"
   ]
  },
  {
   "cell_type": "code",
   "execution_count": 4,
   "metadata": {},
   "outputs": [],
   "source": [
    "def predict(features):\n",
    "    response = sagemaker.invoke_endpoint(EndpointName=ENDPOINT_NAME, \n",
    "                                         ContentType=CONTENT_TYPE, \n",
    "                                         Body=features)\n",
    "    body = response['Body'].read()\n",
    "    prediction = body.decode('utf-8').split(',')[0]\n",
    "    return prediction"
   ]
  },
  {
   "cell_type": "markdown",
   "metadata": {},
   "source": [
    "##### Test Positive case"
   ]
  },
  {
   "cell_type": "code",
   "execution_count": 5,
   "metadata": {},
   "outputs": [],
   "source": [
    "features = '5000,4975.0,36,0.2728221178925404,162.87,b,b2,verified,2011-12-01,\"(15,[1],[1.0])\",27.65,1985-01-01,1,3,0,83.7,9,10.0,\"\",rent,24000.0,\"(20007,[0],[2.5966152171060037])\"'"
   ]
  },
  {
   "cell_type": "code",
   "execution_count": 6,
   "metadata": {},
   "outputs": [
    {
     "name": "stdout",
     "output_type": "stream",
     "text": [
      "Prediction = fully paid\n"
     ]
    }
   ],
   "source": [
    "prediction = predict(features)\n",
    "print(f'Prediction = {prediction}')"
   ]
  },
  {
   "cell_type": "markdown",
   "metadata": {},
   "source": [
    "##### Test Negative case"
   ]
  },
  {
   "cell_type": "code",
   "execution_count": 7,
   "metadata": {},
   "outputs": [],
   "source": [
    "features = '5600,5600.0,60,0.8273343766301512,152.39,f,f2,source verified,2011-12-01,\"(15,[5],[1.0])\",5.55,2004-04-01,2,11,0,32.6,13,4.0,\"\",own,40000.0,\"(20007,[0],[2.5966152171060037])\"'"
   ]
  },
  {
   "cell_type": "code",
   "execution_count": 8,
   "metadata": {},
   "outputs": [
    {
     "name": "stdout",
     "output_type": "stream",
     "text": [
      "Prediction = charged off\n"
     ]
    }
   ],
   "source": [
    "prediction = predict(features)\n",
    "print(f'Prediction = {prediction}')"
   ]
  },
  {
   "cell_type": "code",
   "execution_count": null,
   "metadata": {},
   "outputs": [],
   "source": []
  }
 ],
 "metadata": {
  "instance_type": "ml.t3.medium",
  "kernelspec": {
   "display_name": "Python 3 (Data Science)",
   "language": "python",
   "name": "python3__SAGEMAKER_INTERNAL__arn:aws:sagemaker:us-east-1:081325390199:image/datascience-1.0"
  },
  "language_info": {
   "codemirror_mode": {
    "name": "ipython",
    "version": 3
   },
   "file_extension": ".py",
   "mimetype": "text/x-python",
   "name": "python",
   "nbconvert_exporter": "python",
   "pygments_lexer": "ipython3",
   "version": "3.7.10"
  }
 },
 "nbformat": 4,
 "nbformat_minor": 4
}
