{
 "cells": [
  {
   "cell_type": "code",
   "execution_count": 1,
   "metadata": {},
   "outputs": [],
   "source": [
    "import pandas as pd\n",
    "import sagemaker "
   ]
  },
  {
   "cell_type": "code",
   "execution_count": 2,
   "metadata": {},
   "outputs": [],
   "source": [
    "df = pd.read_csv('./data/train/loans.csv')"
   ]
  },
  {
   "cell_type": "code",
   "execution_count": 3,
   "metadata": {},
   "outputs": [
    {
     "data": {
      "text/html": [
       "<div>\n",
       "<style scoped>\n",
       "    .dataframe tbody tr th:only-of-type {\n",
       "        vertical-align: middle;\n",
       "    }\n",
       "\n",
       "    .dataframe tbody tr th {\n",
       "        vertical-align: top;\n",
       "    }\n",
       "\n",
       "    .dataframe thead th {\n",
       "        text-align: right;\n",
       "    }\n",
       "</style>\n",
       "<table border=\"1\" class=\"dataframe\">\n",
       "  <thead>\n",
       "    <tr style=\"text-align: right;\">\n",
       "      <th></th>\n",
       "      <th>loan_status</th>\n",
       "      <th>loan_amount</th>\n",
       "      <th>funded_amount_by_investors</th>\n",
       "      <th>term</th>\n",
       "      <th>interest_rate</th>\n",
       "      <th>installment</th>\n",
       "      <th>grade</th>\n",
       "      <th>sub_grade</th>\n",
       "      <th>employment_length</th>\n",
       "      <th>home_ownership</th>\n",
       "      <th>...</th>\n",
       "      <th>verification_status</th>\n",
       "      <th>issued_month</th>\n",
       "      <th>purpose</th>\n",
       "      <th>dti</th>\n",
       "      <th>earliest_credit_line</th>\n",
       "      <th>inquiries_last_6_months</th>\n",
       "      <th>open_credit_lines</th>\n",
       "      <th>derogatory_public_records</th>\n",
       "      <th>revolving_line_utilization_rate</th>\n",
       "      <th>total_credit_lines</th>\n",
       "    </tr>\n",
       "  </thead>\n",
       "  <tbody>\n",
       "    <tr>\n",
       "      <th>0</th>\n",
       "      <td>0</td>\n",
       "      <td>14400</td>\n",
       "      <td>13837.40751</td>\n",
       "      <td>36</td>\n",
       "      <td>12.18</td>\n",
       "      <td>479.52</td>\n",
       "      <td>B</td>\n",
       "      <td>B4</td>\n",
       "      <td>10</td>\n",
       "      <td>OWN</td>\n",
       "      <td>...</td>\n",
       "      <td>Verified</td>\n",
       "      <td>Dec-09</td>\n",
       "      <td>debt_consolidation</td>\n",
       "      <td>0.00</td>\n",
       "      <td>Aug-96</td>\n",
       "      <td>3</td>\n",
       "      <td>2</td>\n",
       "      <td>0</td>\n",
       "      <td>0.0</td>\n",
       "      <td>4</td>\n",
       "    </tr>\n",
       "    <tr>\n",
       "      <th>1</th>\n",
       "      <td>0</td>\n",
       "      <td>18000</td>\n",
       "      <td>17750.00000</td>\n",
       "      <td>60</td>\n",
       "      <td>11.11</td>\n",
       "      <td>392.36</td>\n",
       "      <td>B</td>\n",
       "      <td>B5</td>\n",
       "      <td>10</td>\n",
       "      <td>MORTGAGE</td>\n",
       "      <td>...</td>\n",
       "      <td>Verified</td>\n",
       "      <td>May-11</td>\n",
       "      <td>debt_consolidation</td>\n",
       "      <td>26.40</td>\n",
       "      <td>Oct-97</td>\n",
       "      <td>0</td>\n",
       "      <td>15</td>\n",
       "      <td>0</td>\n",
       "      <td>42.0</td>\n",
       "      <td>44</td>\n",
       "    </tr>\n",
       "    <tr>\n",
       "      <th>2</th>\n",
       "      <td>1</td>\n",
       "      <td>12375</td>\n",
       "      <td>12375.00000</td>\n",
       "      <td>60</td>\n",
       "      <td>23.13</td>\n",
       "      <td>349.79</td>\n",
       "      <td>G</td>\n",
       "      <td>G2</td>\n",
       "      <td>5</td>\n",
       "      <td>RENT</td>\n",
       "      <td>...</td>\n",
       "      <td>Not Verified</td>\n",
       "      <td>Dec-11</td>\n",
       "      <td>other</td>\n",
       "      <td>20.88</td>\n",
       "      <td>Jan-96</td>\n",
       "      <td>0</td>\n",
       "      <td>27</td>\n",
       "      <td>0</td>\n",
       "      <td>22.5</td>\n",
       "      <td>31</td>\n",
       "    </tr>\n",
       "    <tr>\n",
       "      <th>3</th>\n",
       "      <td>1</td>\n",
       "      <td>14800</td>\n",
       "      <td>14800.00000</td>\n",
       "      <td>60</td>\n",
       "      <td>13.49</td>\n",
       "      <td>340.47</td>\n",
       "      <td>C</td>\n",
       "      <td>C1</td>\n",
       "      <td>7</td>\n",
       "      <td>OWN</td>\n",
       "      <td>...</td>\n",
       "      <td>Not Verified</td>\n",
       "      <td>Sep-11</td>\n",
       "      <td>debt_consolidation</td>\n",
       "      <td>8.82</td>\n",
       "      <td>Feb-98</td>\n",
       "      <td>0</td>\n",
       "      <td>6</td>\n",
       "      <td>1</td>\n",
       "      <td>71.6</td>\n",
       "      <td>11</td>\n",
       "    </tr>\n",
       "    <tr>\n",
       "      <th>4</th>\n",
       "      <td>1</td>\n",
       "      <td>4000</td>\n",
       "      <td>4000.00000</td>\n",
       "      <td>60</td>\n",
       "      <td>17.49</td>\n",
       "      <td>100.47</td>\n",
       "      <td>D</td>\n",
       "      <td>D5</td>\n",
       "      <td>1</td>\n",
       "      <td>RENT</td>\n",
       "      <td>...</td>\n",
       "      <td>Not Verified</td>\n",
       "      <td>Jul-11</td>\n",
       "      <td>car</td>\n",
       "      <td>6.92</td>\n",
       "      <td>Jan-08</td>\n",
       "      <td>2</td>\n",
       "      <td>7</td>\n",
       "      <td>0</td>\n",
       "      <td>37.3</td>\n",
       "      <td>7</td>\n",
       "    </tr>\n",
       "  </tbody>\n",
       "</table>\n",
       "<p>5 rows × 21 columns</p>\n",
       "</div>"
      ],
      "text/plain": [
       "   loan_status  loan_amount  funded_amount_by_investors  term  interest_rate  \\\n",
       "0            0        14400                 13837.40751    36          12.18   \n",
       "1            0        18000                 17750.00000    60          11.11   \n",
       "2            1        12375                 12375.00000    60          23.13   \n",
       "3            1        14800                 14800.00000    60          13.49   \n",
       "4            1         4000                  4000.00000    60          17.49   \n",
       "\n",
       "   installment grade sub_grade  employment_length home_ownership  ...  \\\n",
       "0       479.52     B        B4                 10            OWN  ...   \n",
       "1       392.36     B        B5                 10       MORTGAGE  ...   \n",
       "2       349.79     G        G2                  5           RENT  ...   \n",
       "3       340.47     C        C1                  7            OWN  ...   \n",
       "4       100.47     D        D5                  1           RENT  ...   \n",
       "\n",
       "   verification_status issued_month             purpose    dti  \\\n",
       "0             Verified       Dec-09  debt_consolidation   0.00   \n",
       "1             Verified       May-11  debt_consolidation  26.40   \n",
       "2         Not Verified       Dec-11               other  20.88   \n",
       "3         Not Verified       Sep-11  debt_consolidation   8.82   \n",
       "4         Not Verified       Jul-11                 car   6.92   \n",
       "\n",
       "   earliest_credit_line inquiries_last_6_months  open_credit_lines  \\\n",
       "0                Aug-96                       3                  2   \n",
       "1                Oct-97                       0                 15   \n",
       "2                Jan-96                       0                 27   \n",
       "3                Feb-98                       0                  6   \n",
       "4                Jan-08                       2                  7   \n",
       "\n",
       "   derogatory_public_records  revolving_line_utilization_rate  \\\n",
       "0                          0                              0.0   \n",
       "1                          0                             42.0   \n",
       "2                          0                             22.5   \n",
       "3                          1                             71.6   \n",
       "4                          0                             37.3   \n",
       "\n",
       "   total_credit_lines  \n",
       "0                   4  \n",
       "1                  44  \n",
       "2                  31  \n",
       "3                  11  \n",
       "4                   7  \n",
       "\n",
       "[5 rows x 21 columns]"
      ]
     },
     "execution_count": 3,
     "metadata": {},
     "output_type": "execute_result"
    }
   ],
   "source": [
    "df.head(5)"
   ]
  },
  {
   "cell_type": "code",
   "execution_count": 4,
   "metadata": {},
   "outputs": [
    {
     "data": {
      "text/plain": [
       "(10000, 21)"
      ]
     },
     "execution_count": 4,
     "metadata": {},
     "output_type": "execute_result"
    }
   ],
   "source": [
    "df.shape"
   ]
  },
  {
   "cell_type": "markdown",
   "metadata": {},
   "source": [
    "### Upload datasets from local to S3"
   ]
  },
  {
   "cell_type": "code",
   "execution_count": 5,
   "metadata": {},
   "outputs": [
    {
     "name": "stdout",
     "output_type": "stream",
     "text": [
      "Default S3 bucket = sagemaker-us-east-1-892313895307\n"
     ]
    }
   ],
   "source": [
    "session = sagemaker.Session()\n",
    "default_bucket = session.default_bucket()\n",
    "print(f'Default S3 bucket = {default_bucket}')"
   ]
  },
  {
   "cell_type": "code",
   "execution_count": 6,
   "metadata": {},
   "outputs": [
    {
     "name": "stdout",
     "output_type": "stream",
     "text": [
      "upload: data/loans-part-1.csv to s3://sagemaker-us-east-1-892313895307/loan-default/loans-part-1.csv\n"
     ]
    }
   ],
   "source": [
    "!aws s3 cp ./data/loans-part-1.csv s3://{default_bucket}/loan-default/"
   ]
  },
  {
   "cell_type": "code",
   "execution_count": 7,
   "metadata": {},
   "outputs": [
    {
     "name": "stdout",
     "output_type": "stream",
     "text": [
      "upload: data/loans-part-2.csv to s3://sagemaker-us-east-1-892313895307/loan-default/loans-part-2.csv\n"
     ]
    }
   ],
   "source": [
    "!aws s3 cp ./data/loans-part-2.csv s3://{default_bucket}/loan-default/"
   ]
  },
  {
   "cell_type": "code",
   "execution_count": 8,
   "metadata": {},
   "outputs": [
    {
     "name": "stdout",
     "output_type": "stream",
     "text": [
      "upload: data/train/loans.csv to s3://sagemaker-us-east-1-892313895307/loan-default/loans.csv\n"
     ]
    }
   ],
   "source": [
    "!aws s3 cp ./data/train/loans.csv s3://{default_bucket}/loan-default/"
   ]
  },
  {
   "cell_type": "code",
   "execution_count": null,
   "metadata": {},
   "outputs": [],
   "source": []
  }
 ],
 "metadata": {
  "instance_type": "ml.t3.medium",
  "kernelspec": {
   "display_name": "Python 3 (Data Science)",
   "language": "python",
   "name": "python3__SAGEMAKER_INTERNAL__arn:aws:sagemaker:us-east-1:081325390199:image/datascience-1.0"
  },
  "language_info": {
   "codemirror_mode": {
    "name": "ipython",
    "version": 3
   },
   "file_extension": ".py",
   "mimetype": "text/x-python",
   "name": "python",
   "nbconvert_exporter": "python",
   "pygments_lexer": "ipython3",
   "version": "3.7.10"
  }
 },
 "nbformat": 4,
 "nbformat_minor": 4
}
