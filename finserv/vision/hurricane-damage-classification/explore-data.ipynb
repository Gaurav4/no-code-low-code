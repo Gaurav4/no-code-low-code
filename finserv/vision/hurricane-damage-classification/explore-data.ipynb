{
 "cells": [
  {
   "cell_type": "markdown",
   "metadata": {},
   "source": [
    "### Imports "
   ]
  },
  {
   "cell_type": "code",
   "execution_count": 1,
   "metadata": {},
   "outputs": [],
   "source": [
    "from IPython.core.display import HTML\n",
    "import sagemaker"
   ]
  },
  {
   "cell_type": "markdown",
   "metadata": {},
   "source": [
    "### Explore data"
   ]
  },
  {
   "cell_type": "markdown",
   "metadata": {},
   "source": [
    "#### Damaged"
   ]
  },
  {
   "cell_type": "code",
   "execution_count": 5,
   "metadata": {},
   "outputs": [
    {
     "data": {
      "text/html": [
       "<table><tr><td><img src=\"./data/train/damage/-93.548123_30.900623.jpeg\" alt=\"1\" style=\"height: 200px;\"/><figcaption>1.jpeg</figcaption></td><td> <img src=\"./data/train/damage/-93.560128_30.894917.jpeg\" alt=\"2\" style=\"height: 200px;\"/><figcaption>2.jpeg</figcaption></td><td> <img src=\"./data/train/damage/-93.578271_30.779923999999998.jpeg\" alt=\"3\" style=\"height: 200px;\"/><figcaption>3.jpeg</figcaption></td><td> <img src=\"./data/train/damage/-93.590598_30.694956.jpeg\" alt=\"4\" style=\"height: 200px;\"/><figcaption>4.jpeg</figcaption></td><td> <img src=\"./data/train/damage/-93.604017_30.793719.jpeg\" alt=\"5\" style=\"height: 200px;\"/><figcaption>5.jpeg</figcaption></td></tr></table>"
      ],
      "text/plain": [
       "<IPython.core.display.HTML object>"
      ]
     },
     "execution_count": 5,
     "metadata": {},
     "output_type": "execute_result"
    }
   ],
   "source": [
    "HTML('<table><tr><td><img src=\"./data/train/damage/-93.548123_30.900623.jpeg\" alt=\"1\" style=\"height: 200px;\"/><figcaption>1.jpeg</figcaption>'\n",
    "     '</td><td> <img src=\"./data/train/damage/-93.560128_30.894917.jpeg\" alt=\"2\" style=\"height: 200px;\"/><figcaption>2.jpeg</figcaption>'\n",
    "     '</td><td> <img src=\"./data/train/damage/-93.578271_30.779923999999998.jpeg\" alt=\"3\" style=\"height: 200px;\"/><figcaption>3.jpeg</figcaption>'\n",
    "     '</td><td> <img src=\"./data/train/damage/-93.590598_30.694956.jpeg\" alt=\"4\" style=\"height: 200px;\"/><figcaption>4.jpeg</figcaption>'\n",
    "     '</td><td> <img src=\"./data/train/damage/-93.604017_30.793719.jpeg\" alt=\"5\" style=\"height: 200px;\"/><figcaption>5.jpeg</figcaption>'\n",
    "     '</td></tr></table>')"
   ]
  },
  {
   "cell_type": "markdown",
   "metadata": {},
   "source": [
    "#### Not-damaged"
   ]
  },
  {
   "cell_type": "code",
   "execution_count": 7,
   "metadata": {},
   "outputs": [
    {
     "data": {
      "text/html": [
       "<table><tr><td><img src=\"./data/train/no-damage/-95.061894_30.007746.jpeg\" alt=\"1\" style=\"height: 200px;\"/><figcaption>1.jpeg</figcaption></td><td> <img src=\"./data/train/no-damage/-95.061936_29.828088.jpeg\" alt=\"2\" style=\"height: 200px;\"/><figcaption>2.jpeg</figcaption></td><td> <img src=\"./data/train/no-damage/-95.062123_30.056714000000003.jpeg\" alt=\"3\" style=\"height: 200px;\"/><figcaption>3.jpeg</figcaption></td><td> <img src=\"./data/train/no-damage/-95.062203_29.82817.jpeg\" alt=\"4\" style=\"height: 200px;\"/><figcaption>4.jpeg</figcaption></td><td> <img src=\"./data/train/no-damage/-95.062246_30.056189.jpeg\" alt=\"5\" style=\"height: 200px;\"/><figcaption>5.jpeg</figcaption></td></tr></table>"
      ],
      "text/plain": [
       "<IPython.core.display.HTML object>"
      ]
     },
     "execution_count": 7,
     "metadata": {},
     "output_type": "execute_result"
    }
   ],
   "source": [
    "HTML('<table><tr><td><img src=\"./data/train/no-damage/-95.061894_30.007746.jpeg\" alt=\"1\" style=\"height: 200px;\"/><figcaption>1.jpeg</figcaption>'\n",
    "     '</td><td> <img src=\"./data/train/no-damage/-95.061936_29.828088.jpeg\" alt=\"2\" style=\"height: 200px;\"/><figcaption>2.jpeg</figcaption>'\n",
    "     '</td><td> <img src=\"./data/train/no-damage/-95.062123_30.056714000000003.jpeg\" alt=\"3\" style=\"height: 200px;\"/><figcaption>3.jpeg</figcaption>'\n",
    "     '</td><td> <img src=\"./data/train/no-damage/-95.062203_29.82817.jpeg\" alt=\"4\" style=\"height: 200px;\"/><figcaption>4.jpeg</figcaption>'\n",
    "     '</td><td> <img src=\"./data/train/no-damage/-95.062246_30.056189.jpeg\" alt=\"5\" style=\"height: 200px;\"/><figcaption>5.jpeg</figcaption>'\n",
    "     '</td></tr></table>')"
   ]
  },
  {
   "cell_type": "markdown",
   "metadata": {},
   "source": [
    "### Upload datasets from local to S3"
   ]
  },
  {
   "cell_type": "code",
   "execution_count": 8,
   "metadata": {},
   "outputs": [
    {
     "name": "stdout",
     "output_type": "stream",
     "text": [
      "Default S3 bucket = sagemaker-us-east-1-892313895307\n"
     ]
    }
   ],
   "source": [
    "session = sagemaker.Session()\n",
    "default_bucket = session.default_bucket()\n",
    "print(f'Default S3 bucket = {default_bucket}')"
   ]
  },
  {
   "cell_type": "code",
   "execution_count": 14,
   "metadata": {},
   "outputs": [],
   "source": [
    "%%capture\n",
    "\n",
    "!aws s3 cp ./data/ s3://{default_bucket}/damage-clf/ --recursive      "
   ]
  }
 ],
 "metadata": {
  "instance_type": "ml.t3.medium",
  "kernelspec": {
   "display_name": "Python 3 (Data Science)",
   "language": "python",
   "name": "python3__SAGEMAKER_INTERNAL__arn:aws:sagemaker:us-east-1:081325390199:image/datascience-1.0"
  },
  "language_info": {
   "codemirror_mode": {
    "name": "ipython",
    "version": 3
   },
   "file_extension": ".py",
   "mimetype": "text/x-python",
   "name": "python",
   "nbconvert_exporter": "python",
   "pygments_lexer": "ipython3",
   "version": "3.7.10"
  }
 },
 "nbformat": 4,
 "nbformat_minor": 4
}
