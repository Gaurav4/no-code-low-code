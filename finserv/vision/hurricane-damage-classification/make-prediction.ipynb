{
 "cells": [
  {
   "cell_type": "markdown",
   "metadata": {},
   "source": [
    "#### Imports "
   ]
  },
  {
   "cell_type": "code",
   "execution_count": 15,
   "metadata": {},
   "outputs": [],
   "source": [
    "from IPython.core.display import HTML\n",
    "import json\n",
    "import os"
   ]
  },
  {
   "cell_type": "markdown",
   "metadata": {},
   "source": [
    "#### Essentials"
   ]
  },
  {
   "cell_type": "code",
   "execution_count": 14,
   "metadata": {},
   "outputs": [],
   "source": [
    "ENDPOINT_NAME = 'jumpstart-ftc-disaster'\n",
    "CONTENT_TYPE = 'application/x-image'\n",
    "sagemaker = boto3.client('runtime.sagemaker')"
   ]
  },
  {
   "cell_type": "code",
   "execution_count": 29,
   "metadata": {},
   "outputs": [],
   "source": [
    "label_map = {0: 'damaged', 1: 'not-damaged'}"
   ]
  },
  {
   "cell_type": "markdown",
   "metadata": {},
   "source": [
    "#### Invoke SageMaker Endpoint and Predict"
   ]
  },
  {
   "cell_type": "code",
   "execution_count": 13,
   "metadata": {},
   "outputs": [],
   "source": [
    "def query_endpoint(image):\n",
    "    response = sagemaker.invoke_endpoint(EndpointName=ENDPOINT_NAME, \n",
    "                                         ContentType=CONTENT_TYPE, \n",
    "                                         Body=image)\n",
    "    prediction = json.loads(response['Body'].read())\n",
    "    return prediction"
   ]
  },
  {
   "cell_type": "markdown",
   "metadata": {},
   "source": [
    "##### Test damaged images"
   ]
  },
  {
   "cell_type": "code",
   "execution_count": 35,
   "metadata": {},
   "outputs": [
    {
     "data": {
      "text/html": [
       "<table><tr><td><img src=\"./data/test/damage/1.jpeg\" alt=\"1\" style=\"height: 200px;\"/><figcaption>1.jpeg</figcaption></td><td> <img src=\"./data/test/damage/2.jpeg\" alt=\"2\" style=\"height: 200px;\"/><figcaption>2.jpeg</figcaption></td><td> <img src=\"./data/test/damage/3.jpeg\" alt=\"3\" style=\"height: 200px;\"/><figcaption>3.jpeg</figcaption></td><td> <img src=\"./data/test/damage/4.jpeg\" alt=\"4\" style=\"height: 200px;\"/><figcaption>4.jpeg</figcaption></td><td> <img src=\"./data/test/damage/5.jpeg\" alt=\"5\" style=\"height: 200px;\"/><figcaption>5.jpeg</figcaption></td></tr></table>"
      ],
      "text/plain": [
       "<IPython.core.display.HTML object>"
      ]
     },
     "execution_count": 35,
     "metadata": {},
     "output_type": "execute_result"
    }
   ],
   "source": [
    "HTML('<table><tr><td><img src=\"./data/test/damage/1.jpeg\" alt=\"1\" style=\"height: 200px;\"/><figcaption>1.jpeg</figcaption>'\n",
    "     '</td><td> <img src=\"./data/test/damage/2.jpeg\" alt=\"2\" style=\"height: 200px;\"/><figcaption>2.jpeg</figcaption>'\n",
    "     '</td><td> <img src=\"./data/test/damage/3.jpeg\" alt=\"3\" style=\"height: 200px;\"/><figcaption>3.jpeg</figcaption>'\n",
    "     '</td><td> <img src=\"./data/test/damage/4.jpeg\" alt=\"4\" style=\"height: 200px;\"/><figcaption>4.jpeg</figcaption>'\n",
    "     '</td><td> <img src=\"./data/test/damage/5.jpeg\" alt=\"5\" style=\"height: 200px;\"/><figcaption>5.jpeg</figcaption>'\n",
    "     '</td></tr></table>')"
   ]
  },
  {
   "cell_type": "code",
   "execution_count": 37,
   "metadata": {},
   "outputs": [],
   "source": [
    "damaged_images = {}\n",
    "\n",
    "root_dir = './data/test/damage/'\n",
    "for filename in os.listdir(root_dir):\n",
    "    if filename.endswith('.jpeg'):\n",
    "        with open(f'{root_dir}{filename}', 'rb') as file: \n",
    "            damaged_images[filename] = file.read()"
   ]
  },
  {
   "cell_type": "code",
   "execution_count": 38,
   "metadata": {},
   "outputs": [
    {
     "name": "stdout",
     "output_type": "stream",
     "text": [
      "4.jpeg = damaged\n",
      "2.jpeg = damaged\n",
      "5.jpeg = damaged\n",
      "1.jpeg = damaged\n",
      "3.jpeg = damaged\n"
     ]
    }
   ],
   "source": [
    "for filename, image in damaged_images.items():\n",
    "    prediction = query_endpoint(image)  \n",
    "    print(f'{filename} = {label_map[prediction.index(max(prediction))]}')\n",
    "  "
   ]
  },
  {
   "cell_type": "markdown",
   "metadata": {},
   "source": [
    "##### Test not-damaged images"
   ]
  },
  {
   "cell_type": "code",
   "execution_count": 40,
   "metadata": {},
   "outputs": [
    {
     "data": {
      "text/html": [
       "<table><tr><td><img src=\"./data/test/no-damage/1.jpeg\" alt=\"1\" style=\"height: 200px;\"/><figcaption>1.jpeg</figcaption></td><td> <img src=\"./data/test/no-damage/2.jpeg\" alt=\"2\" style=\"height: 200px;\"/><figcaption>2.jpeg</figcaption></td><td> <img src=\"./data/test/no-damage/3.jpeg\" alt=\"3\" style=\"height: 200px;\"/><figcaption>3.jpeg</figcaption></td><td> <img src=\"./data/test/no-damage/4.jpeg\" alt=\"4\" style=\"height: 200px;\"/><figcaption>4.jpeg</figcaption></td><td> <img src=\"./data/test/no-damage/5.jpeg\" alt=\"5\" style=\"height: 200px;\"/><figcaption>5.jpeg</figcaption></td></tr></table>"
      ],
      "text/plain": [
       "<IPython.core.display.HTML object>"
      ]
     },
     "execution_count": 40,
     "metadata": {},
     "output_type": "execute_result"
    }
   ],
   "source": [
    "HTML('<table><tr><td><img src=\"./data/test/no-damage/1.jpeg\" alt=\"1\" style=\"height: 200px;\"/><figcaption>1.jpeg</figcaption>'\n",
    "     '</td><td> <img src=\"./data/test/no-damage/2.jpeg\" alt=\"2\" style=\"height: 200px;\"/><figcaption>2.jpeg</figcaption>'\n",
    "     '</td><td> <img src=\"./data/test/no-damage/3.jpeg\" alt=\"3\" style=\"height: 200px;\"/><figcaption>3.jpeg</figcaption>'\n",
    "     '</td><td> <img src=\"./data/test/no-damage/4.jpeg\" alt=\"4\" style=\"height: 200px;\"/><figcaption>4.jpeg</figcaption>'\n",
    "     '</td><td> <img src=\"./data/test/no-damage/5.jpeg\" alt=\"5\" style=\"height: 200px;\"/><figcaption>5.jpeg</figcaption>'\n",
    "     '</td></tr></table>')"
   ]
  },
  {
   "cell_type": "code",
   "execution_count": 33,
   "metadata": {},
   "outputs": [],
   "source": [
    "not_damaged_images = {}\n",
    "\n",
    "root_dir = './data/test/no-damage/'\n",
    "for filename in os.listdir(root_dir):\n",
    "    if filename.endswith('.jpeg'):\n",
    "        with open(f'{root_dir}{filename}', 'rb') as file: \n",
    "            not_damaged_images[filename] = file.read()"
   ]
  },
  {
   "cell_type": "code",
   "execution_count": 39,
   "metadata": {},
   "outputs": [
    {
     "name": "stdout",
     "output_type": "stream",
     "text": [
      "4.jpeg = not-damaged\n",
      "2.jpeg = not-damaged\n",
      "5.jpeg = not-damaged\n",
      "1.jpeg = not-damaged\n",
      "3.jpeg = damaged\n"
     ]
    }
   ],
   "source": [
    "for filename, image in not_damaged_images.items():\n",
    "    prediction = query_endpoint(image)  \n",
    "    print(f'{filename} = {label_map[prediction.index(max(prediction))]}')"
   ]
  },
  {
   "cell_type": "code",
   "execution_count": null,
   "metadata": {},
   "outputs": [],
   "source": []
  },
  {
   "cell_type": "code",
   "execution_count": null,
   "metadata": {},
   "outputs": [],
   "source": []
  }
 ],
 "metadata": {
  "instance_type": "ml.t3.medium",
  "kernelspec": {
   "display_name": "Python 3 (Data Science)",
   "language": "python",
   "name": "python3__SAGEMAKER_INTERNAL__arn:aws:sagemaker:us-east-1:081325390199:image/datascience-1.0"
  },
  "language_info": {
   "codemirror_mode": {
    "name": "ipython",
    "version": 3
   },
   "file_extension": ".py",
   "mimetype": "text/x-python",
   "name": "python",
   "nbconvert_exporter": "python",
   "pygments_lexer": "ipython3",
   "version": "3.7.10"
  }
 },
 "nbformat": 4,
 "nbformat_minor": 4
}
